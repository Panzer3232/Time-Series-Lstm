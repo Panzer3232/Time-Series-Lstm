{
 "cells": [
  {
   "cell_type": "code",
   "execution_count": 1,
   "metadata": {
    "execution": {
     "iopub.execute_input": "2023-04-25T14:10:15.978777Z",
     "iopub.status.busy": "2023-04-25T14:10:15.978318Z",
     "iopub.status.idle": "2023-04-25T14:10:16.526961Z",
     "shell.execute_reply": "2023-04-25T14:10:16.525496Z",
     "shell.execute_reply.started": "2023-04-25T14:10:15.978739Z"
    }
   },
   "outputs": [],
   "source": [
    "# Step 1: Import necessary libraries\n",
    "\n",
    "import torch\n",
    "import torch.nn as nn\n",
    "import torch.optim as optim\n",
    "import pandas as pd\n",
    "import numpy as np\n",
    "import matplotlib.pyplot as plt\n",
    "from sklearn.model_selection import train_test_split\n",
    "from sklearn.preprocessing import MinMaxScaler"
   ]
  },
  {
   "cell_type": "code",
   "execution_count": 2,
   "metadata": {},
   "outputs": [],
   "source": [
    "# Step 2: Load and preprocess the dataset\n",
    "def preprocess_data(data): # Normalize the dataset using MinMaxScaler\n",
    "    scaler = MinMaxScaler()\n",
    "    data = scaler.fit_transform(data)\n",
    "    return data, scaler\n",
    "\n",
    "def create_sequences(data, seq_length): # Return input and target sequences for the LSTM model\n",
    "    inputs, targets = [], []\n",
    "    for i in range(len(data) - seq_length):\n",
    "        inputs.append(data[i:i + seq_length])\n",
    "        targets.append(data[i + seq_length])\n",
    "    return np.array(inputs), np.array(targets)\n",
    "\n",
    "# Load the dataset from CSV\n",
    "data = pd.read_csv(\"rainfall_data.csv\")\n",
    "data = data.drop(\"Year\", axis=1)"
   ]
  },
  {
   "cell_type": "code",
   "execution_count": 3,
   "metadata": {},
   "outputs": [],
   "source": [
    "# Preprocess and split the dataset into training and testing sets\n",
    "data, scaler = preprocess_data(data.values)\n",
    "seq_length = 4\n",
    "inputs, targets = create_sequences(data, seq_length)\n",
    "train_inputs, test_inputs, train_targets, test_targets = train_test_split(inputs, targets, test_size=0.2, shuffle=False)"
   ]
  },
  {
   "cell_type": "code",
   "execution_count": 4,
   "metadata": {},
   "outputs": [],
   "source": [
    "# Step 3: Define the neural network architecture, LSTM based Neural Network is defined\n",
    "class SimpleLSTM(nn.Module):\n",
    "    def __init__(self, input_size, hidden_size, output_size, num_layers=1):\n",
    "        super(SimpleLSTM, self).__init__()\n",
    "        self.lstm = nn.LSTM(input_size, hidden_size, num_layers, batch_first=True)\n",
    "        self.fc = nn.Linear(hidden_size, output_size)\n",
    "\n",
    "    def forward(self, x):\n",
    "        x, _ = self.lstm(x)\n",
    "        x = self.fc(x[:, -1, :])\n",
    "        return x"
   ]
  },
  {
   "cell_type": "code",
   "execution_count": 5,
   "metadata": {},
   "outputs": [
    {
     "name": "stdout",
     "output_type": "stream",
     "text": [
      "Epoch [10/100], Loss: 0.07115505635738373\n",
      "Epoch [20/100], Loss: 0.06100874021649361\n",
      "Epoch [30/100], Loss: 0.05236857756972313\n",
      "Epoch [40/100], Loss: 0.04230019822716713\n",
      "Epoch [50/100], Loss: 0.03295513615012169\n",
      "Epoch [60/100], Loss: 0.02372514083981514\n",
      "Epoch [70/100], Loss: 0.01725475862622261\n",
      "Epoch [80/100], Loss: 0.011310034431517124\n",
      "Epoch [90/100], Loss: 0.007374343927949667\n",
      "Epoch [100/100], Loss: 0.004529493860900402\n"
     ]
    }
   ],
   "source": [
    "# Step 4: Train the neural network\n",
    "def train_model(model, criterion, optimizer, train_inputs, train_targets, epochs=100):\n",
    "    for epoch in range(epochs):\n",
    "        inputs = torch.tensor(train_inputs, dtype=torch.float32)\n",
    "        targets = torch.tensor(train_targets, dtype=torch.float32)\n",
    "\n",
    "        optimizer.zero_grad()\n",
    "        outputs = model(inputs)\n",
    "        loss = criterion(outputs, targets)\n",
    "        loss.backward()\n",
    "        optimizer.step()\n",
    "\n",
    "        if (epoch + 1) % 10 == 0:\n",
    "            print(f\"Epoch [{epoch + 1}/{epochs}], Loss: {loss.item()}\")\n",
    "\n",
    "input_size = 12\n",
    "hidden_size = 32\n",
    "output_size = 12\n",
    "learning_rate = 0.01\n",
    "\n",
    "model = SimpleLSTM(input_size, hidden_size, output_size)\n",
    "criterion = nn.MSELoss()\n",
    "optimizer = optim.Adam(model.parameters(), lr=learning_rate)\n",
    "\n",
    "train_model(model, criterion, optimizer, train_inputs, train_targets)"
   ]
  },
  {
   "cell_type": "code",
   "execution_count": 6,
   "metadata": {},
   "outputs": [],
   "source": [
    "# Step 5: Test the neural network and plot the results\n",
    "def test_model(model, test_inputs):\n",
    "    inputs = torch.tensor(test_inputs, dtype=torch.float32)\n",
    "    outputs = model(inputs).detach().numpy()\n",
    "    return outputs\n",
    "\n",
    "predictions = test_model(model, test_inputs)\n",
    "actual_values = test_targets"
   ]
  },
  {
   "cell_type": "code",
   "execution_count": 7,
   "metadata": {},
   "outputs": [
    {
     "data": {
      "image/png": "[encoded data removed]",
      "text/plain": [
       "<Figure size 432x288 with 1 Axes>"
      ]
     },
     "metadata": {
      "needs_background": "light"
     },
     "output_type": "display_data"
    }
   ],
   "source": [
    "# Plotting the results \n",
    "plt.plot(actual_values[:, -1], label=\"Actual rainfall\")\n",
    "plt.plot(predictions[:, -1], label=\"Predicted rainfall\")\n",
    "plt.xlabel(\"Year\")\n",
    "plt.ylabel(\"Rainfall\")\n",
    "plt.legend()\n",
    "plt.show()"
   ]
  },
  {
   "cell_type": "code",
   "execution_count": null,
   "metadata": {},
   "outputs": [],
   "source": []
  }
 ],
 "metadata": {
  "kernelspec": {
   "display_name": "Python 3 (ipykernel)",
   "language": "python",
   "name": "python3"
  },
  "language_info": {
   "codemirror_mode": {
    "name": "ipython",
    "version": 3
   },
   "file_extension": ".py",
   "mimetype": "text/x-python",
   "name": "python",
   "nbconvert_exporter": "python",
   "pygments_lexer": "ipython3",
   "version": "3.8.0"
  }
 },
 "nbformat": 4,
 "nbformat_minor": 4
}
